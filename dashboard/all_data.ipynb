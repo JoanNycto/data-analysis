{
 "cells": [
  {
   "cell_type": "code",
   "execution_count": 6,
   "metadata": {},
   "outputs": [
    {
     "name": "stdout",
     "output_type": "stream",
     "text": [
      "Merged data has been saved to all_data.csv\n"
     ]
    }
   ],
   "source": [
    "import pandas as pd\n",
    "\n",
    "# Directory containing the CSV\n",
    "data_dir = \"../data/\"\n",
    "\n",
    "# Load datasets\n",
    "customers = pd.read_csv(data_dir + 'customers_dataset.csv')\n",
    "geolocation = pd.read_csv(data_dir + 'geolocation_dataset.csv')\n",
    "order_items = pd.read_csv(data_dir + 'order_items_dataset.csv')\n",
    "order_payments = pd.read_csv(data_dir + 'order_payments_dataset.csv')\n",
    "order_reviews = pd.read_csv(data_dir + 'order_reviews_dataset.csv')\n",
    "orders = pd.read_csv(data_dir + 'orders_dataset.csv')\n",
    "category_translation = pd.read_csv(data_dir + 'product_category_name_translation.csv')\n",
    "products = pd.read_csv(data_dir + 'products_dataset.csv')\n",
    "sellers = pd.read_csv(data_dir + 'sellers_dataset.csv')\n",
    "\n",
    "# Merge datasets\n",
    "# Merging orders with customers \n",
    "merged_data = orders.merge(customers, on='customer_id', how='left')\\\n",
    "\n",
    "# Merging order items with orders\n",
    "merged_data = merged_data.merge(order_items, on='order_id', how='left')\\\n",
    "                        .merge(products, on='product_id', how='left')\\\n",
    "                        .merge(sellers, on='seller_id', how='left')\\\n",
    "                        .merge(order_payments, on='order_id', how='left')\\\n",
    "                        .merge(order_reviews, on='order_id', how='left')\\\n",
    "                        .merge(category_translation, on='product_category_name', how='left')\n",
    "\n",
    "# Retain relevant columns\n",
    "all_data = merged_data[[\n",
    "    'order_id', 'order_purchase_timestamp', 'order_status', 'order_approved_at', 'order_delivered_carrier_date', 'order_delivered_customer_date', 'order_estimated_delivery_date',  \n",
    "    'customer_id', 'customer_unique_id', 'customer_zip_code_prefix', 'customer_city', 'customer_state', \n",
    "    'order_item_id', 'product_id', 'shipping_limit_date', 'price', 'freight_value',\n",
    "    'payment_type', 'payment_installments', 'payment_value', 'payment_sequential',\n",
    "    'review_id', 'review_score', 'review_comment_title', 'review_comment_message', 'review_creation_date', 'review_answer_timestamp',\n",
    "    'product_category_name', 'product_category_name_english', 'product_name_lenght', 'product_description_lenght',\n",
    "    'product_photos_qty', 'product_weight_g', 'product_length_cm', 'product_height_cm', 'product_width_cm',\n",
    "    'seller_id', 'seller_zip_code_prefix', 'seller_city', 'seller_state'\n",
    "]]\n",
    "\n",
    "# Save to CSV\n",
    "all_data.to_csv('all_data.csv', index=False)\n",
    "\n",
    "print(\"Merged data has been saved to all_data.csv\")\n"
   ]
  }
 ],
 "metadata": {
  "kernelspec": {
   "display_name": "Python 3",
   "language": "python",
   "name": "python3"
  },
  "language_info": {
   "codemirror_mode": {
    "name": "ipython",
    "version": 3
   },
   "file_extension": ".py",
   "mimetype": "text/x-python",
   "name": "python",
   "nbconvert_exporter": "python",
   "pygments_lexer": "ipython3",
   "version": "3.12.2"
  }
 },
 "nbformat": 4,
 "nbformat_minor": 2
}
